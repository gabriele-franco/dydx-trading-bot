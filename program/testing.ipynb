{
 "cells": [
  {
   "cell_type": "code",
   "execution_count": null,
   "metadata": {},
   "outputs": [
    {
     "ename": "",
     "evalue": "",
     "output_type": "error",
     "traceback": [
      "\u001b[1;31mFailed to start the Kernel. \n",
      "The Jupyter notebook server failed to launch in time. \n",
      "View Jupyter <a href='command:jupyter.viewOutput'>log</a> for further details."
     ]
    }
   ],
   "source": [
    "from func_public import get_candles_historical\n",
    "from pprint import pprint\n",
    "from func_connection import connect_dydx\n",
    "\n",
    "client=connect_dydx()\n",
    "\n",
    "#t=get_candles_historical(client, \"BTC-USD\")\n",
    "\n",
    "\n",
    "# Get trade liquidity\n",
    "\n",
    "def get_ticker_liquidity(ticker):\n",
    "    order_book = client.public.get_orderbook(ticker)\n",
    "    print(order_book.data)\n",
    "    return order_book.data\n",
    "\n",
    "\n",
    "data=get_ticker_liquidity(\"BTC-USD\")"
   ]
  },
  {
   "cell_type": "code",
   "execution_count": null,
   "metadata": {},
   "outputs": [
    {
     "ename": "",
     "evalue": "",
     "output_type": "error",
     "traceback": [
      "\u001b[1;31mNon è stato possibile avviare il kernel. \n",
      "\u001b[1;31mKernel venv (Python 3.9.6) non utilizzabile. Per ulteriori informazioni, vedere la scheda di output di Jupyter. \n",
      "\u001b[1;31mPer ulteriori dettagli, visualizzare Jupyter <a href='command:jupyter.viewOutput'>log</a>."
     ]
    }
   ],
   "source": [
    "json= [{\"market_1\": \"ATOM-USD\", \"market_2\": \"EOS-USD\", \"hedge_ratio\": 12.03865306040413, \"z_score\": -1.6828921858514074, \"half_life\": 16.0, \"order_id_m1\": \"1763b8796fe0ae61855cfc41c86da3d647610e0e1fc744f2256a58852ac4739\", \"base_price\": \"13.388\", \"order_m1_size\": \"3.8\", \"order_m1_side\": \"BUY\", \"order_time_m1\": \"2023-01-22T17:01:34.719972\", \"order_id_m2\": \"709bacb4f60eb51160ef4356c5151b38ee65ffce1dbbc506fc2706bdc6d3fd4\", \"quote_price\": \"1.091\", \"order_m2_size\": \"45\", \"order_m2_side\": \"SELL\", \"order_time_m2\": \"2023-01-22T17:01:39.004870\", \"pair_status\": \"LIVE\", \"comments\": \"\"}, {\"market_1\": \"BTC-USD\", \"market_2\": \"DOT-USD\", \"hedge_ratio\": 3579.701774067381, \"z_score\": -2.0589179833648252, \"half_life\": 7.0, \"order_id_m1\": \"755f24d6835c70fdf6764c91e41f03d5a8f4d8971e736f51b3e251df7d1065f\", \"base_price\": \"23087\", \"order_m1_size\": \"0.0022\", \"order_m1_side\": \"BUY\", \"order_time_m1\": \"2023-01-22T17:01:52.344400\", \"order_id_m2\": \"7d3c590e089cbfbe1f9dc45ad689570e2066cb8961db30b567f665f75204ef7\", \"quote_price\": \"6.32\", \"order_m2_size\": \"7.8\", \"order_m2_side\": \"SELL\", \"order_time_m2\": \"2023-01-22T17:01:56.509604\", \"pair_status\": \"LIVE\", \"comments\": \"\"}, {\"market_1\": \"BCH-USD\", \"market_2\": \"RUNE-USD\", \"hedge_ratio\": 73.31414888534448, \"z_score\": -1.8141252854050978, \"half_life\": 12.0, \"order_id_m1\": \"399bd29d334469f86b6d11a07857e3cda86cdfe06ccece3d7625f2a7b40e83f\", \"base_price\": \"132.2\", \"order_m1_size\": \"0.38\", \"order_m1_side\": \"BUY\", \"order_time_m1\": \"2023-01-22T17:03:19.833251\", \"order_id_m2\": \"5f29bb74f85a066fcf0215add7cf0eb1373190a48d49b98b502f8a56e886064\", \"quote_price\": \"1.801\", \"order_m2_size\": \"27\", \"order_m2_side\": \"SELL\", \"order_time_m2\": \"2023-01-22T17:03:23.530284\", \"pair_status\": \"LIVE\", \"comments\": \"\"}]"
   ]
  },
  {
   "cell_type": "code",
   "execution_count": null,
   "metadata": {},
   "outputs": [],
   "source": [
    "for i in json: \n",
    "    "
   ]
  }
 ],
 "metadata": {
  "kernelspec": {
   "display_name": "venv",
   "language": "python",
   "name": "python3"
  },
  "language_info": {
   "codemirror_mode": {
    "name": "ipython",
    "version": 3
   },
   "file_extension": ".py",
   "mimetype": "text/x-python",
   "name": "python",
   "nbconvert_exporter": "python",
   "pygments_lexer": "ipython3",
   "version": "3.9.6 (default, Oct 18 2022, 12:41:40) \n[Clang 14.0.0 (clang-1400.0.29.202)]"
  },
  "orig_nbformat": 4,
  "vscode": {
   "interpreter": {
    "hash": "edbb80e05ab88135c626bd36e668c4aea0bb9ec53d68bfec15afc97e07f247e8"
   }
  }
 },
 "nbformat": 4,
 "nbformat_minor": 2
}
